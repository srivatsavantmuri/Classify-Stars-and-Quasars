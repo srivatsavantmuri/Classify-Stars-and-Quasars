{
 "cells": [
  {
   "cell_type": "code",
   "execution_count": 1,
   "metadata": {},
   "outputs": [],
   "source": [
    "import pandas as pd\n",
    "import numpy as np\n",
    "import csv\n",
    "import random\n",
    "from sklearn.metrics import confusion_matrix\n",
    "from matplotlib import pyplot as plt\n",
    "import math\n",
    "import operator"
   ]
  },
  {
   "cell_type": "code",
   "execution_count": 2,
   "metadata": {},
   "outputs": [],
   "source": [
    "def calcManhattan(val1, val2, l):\n",
    "    dist = 0\n",
    "    for x in range(l):\n",
    "        dist += abs(val1[x] - val2[x])\n",
    "    return (dist)"
   ]
  },
  {
   "cell_type": "code",
   "execution_count": 3,
   "metadata": {},
   "outputs": [],
   "source": [
    "def getNeighs(trainSet, testSet, k):\n",
    "    l1 = len(testSet)-1\n",
    "    l2 = len(trainSet)\n",
    "    dists = []\n",
    "    for val in range(l2):\n",
    "        dist = calcManhattan(testSet, trainSet[val], l1)\n",
    "        dists.append((trainSet[val], dist))\n",
    "    dists.sort(key=operator.itemgetter(1))\n",
    "    neighs = []\n",
    "    for val in range(k):\n",
    "        neighs.append(dists[val][0])\n",
    "    return neighs"
   ]
  },
  {
   "cell_type": "code",
   "execution_count": 4,
   "metadata": {},
   "outputs": [],
   "source": [
    "def getResps(neighs):\n",
    "    cVotes = {}\n",
    "    for val in range(len(neighs)):\n",
    "        resps = neighs[val][-1]\n",
    "        if resps in cVotes:\n",
    "            cVotes[resps] += 1\n",
    "        else:\n",
    "            cVotes[resps] = 1\n",
    "            \n",
    "    sortVotes = sorted(cVotes.items(), key=operator.itemgetter(1),reverse=True)\n",
    "    return sortVotes[0][0]"
   ]
  },
  {
   "cell_type": "code",
   "execution_count": 5,
   "metadata": {},
   "outputs": [],
   "source": [
    "def UpSampling(trainingSet):\n",
    "    TSet = pd.DataFrame(trainingSet)\n",
    "    majority_class = []    \n",
    "    minority_class = []\n",
    "    TSet = TSet.values.tolist()\n",
    "   \n",
    "    for i in range(len(TSet)):\n",
    "        if TSet[i][-1] == 1:\n",
    "            majority_class.append(TSet[i])\n",
    "        else :\n",
    "            minority_class.append(TSet[i])\n",
    "       \n",
    "    unsampled = []\n",
    "    import random\n",
    "    n_samples = len(majority_class)-len(minority_class)\n",
    "    for i in range(n_samples):\n",
    "        #random.shuffle(minority_class)\n",
    "        j = 0\n",
    "        if j < n_samples-1:\n",
    "            unsampled.append(minority_class[j])\n",
    "        else:\n",
    "            j = 0\n",
    "            unsampled.append(minority_class[j])\n",
    "        j+=1    \n",
    "    df_upsampled = pd.DataFrame()\n",
    "    unsampled = pd.DataFrame(unsampled)\n",
    "    minority_class = pd.DataFrame(minority_class)\n",
    "    majority_class = pd.DataFrame(majority_class)\n",
    "    df_upsampled = pd.concat([minority_class, unsampled])\n",
    "    df_upsampled = pd.concat([majority_class,df_upsampled])\n",
    "    df_upsampled = df_upsampled.rename(columns = {16:\"class\"})\n",
    "    trainingSet=df_upsampled.values.tolist()\n",
    "    return trainingSet"
   ]
  },
  {
   "cell_type": "code",
   "execution_count": 6,
   "metadata": {},
   "outputs": [],
   "source": [
    "def preprocess(train,test):\n",
    "    from sklearn.preprocessing import StandardScaler\n",
    "    sc = StandardScaler()\n",
    "    trainingSet = sc.fit_transform(train)\n",
    "    testSet = sc.transform(test)\n",
    "    return trainingSet,testSet"
   ]
  },
  {
   "cell_type": "code",
   "execution_count": 7,
   "metadata": {},
   "outputs": [],
   "source": [
    "def check_file_name(csv_file,df1):\n",
    "        if(csv_file == \"cat2.csv\"):\n",
    "            df2 = df1.drop(labels = ['Unnamed: 0.1','Unnamed: 0', 'galex_objid', 'sdss_objid'],axis = 1)\n",
    "         \n",
    "        else:\n",
    "            df2 = df1.drop(labels=['Unnamed: 0','galex_objid','sdss_objid'],axis = 1)\n",
    "        return df2"
   ]
  },
  {
   "cell_type": "code",
   "execution_count": 8,
   "metadata": {},
   "outputs": [],
   "source": [
    "def file_open(csv_file):\n",
    "    df = pd.read_csv(csv_file)\n",
    "    class_column = df['class']\n",
    "    df1 = df.drop(labels=['spectrometric_redshift','class'],axis=1)\n",
    "    df1['class'] = class_column\n",
    "    df2 = df1.drop(labels=['pred'],axis=1)\n",
    "    df2 = check_file_name(csv_file,df2)    \n",
    "    dataset = df2.values.tolist()\n",
    "    return dataset"
   ]
  },
  {
   "cell_type": "code",
   "execution_count": 9,
   "metadata": {},
   "outputs": [],
   "source": [
    "def main():\n",
    "    \n",
    "    dataset = file_open(\"cat2.csv\")\n",
    "    train,test = splitting(dataset)\n",
    "    \n",
    "    train = UpSampling(train)\n",
    "    \n",
    "    trainingSet,testSet = preprocess(train,test)\n",
    "    \n",
    "    \n",
    "    print ('Train set: ' + repr(len(trainingSet)))\n",
    "    print ('Test set: ' + repr(len(testSet)))\n",
    "\n",
    "    a = []\n",
    "    \n",
    "    k = 3\n",
    "    predictions=[]\n",
    "    for x in range(len(testSet)):\n",
    "        neighs = getNeighs(trainingSet, testSet[x], k)\n",
    "        result = getResps(neighs)\n",
    "        predictions.append(result)\n",
    "\n",
    "    s = set(predictions)\n",
    "    s1 = max(s)\n",
    "    s0 = min(s)\n",
    "\n",
    "    def getAccuracy(testSet, predictions):\n",
    "        a=[]\n",
    "        correct1 = 0\n",
    "        count1=0\n",
    "        count0=0\n",
    "        correct0=0\n",
    "        for x in range(len(testSet)):\n",
    "            a.append(testSet[x][-1])\n",
    "            if testSet[x][-1]==s1:\n",
    "                count1+=1\n",
    "                if testSet[x][-1] == predictions[x]: \n",
    "                    correct1 = correct1 + 1\n",
    "            elif testSet[x][-1]==s0:\n",
    "                count0+=1\n",
    "                if testSet[x][-1] == predictions[x]: \n",
    "                    correct0 = correct0 + 1\n",
    "\n",
    "        TN = correct0 #stars\n",
    "        FP = count0-correct0\n",
    "        FN = count1-correct1\n",
    "        TP = correct1\n",
    "        \n",
    "        acc = (TP+TN)/(TP+TN+FP+FN)\n",
    "        print('\\n')\n",
    "        print(\"Overall Accuracy: \",round(acc,2))\n",
    "        print('\\n')\n",
    "        print(\"Stars:\")\n",
    "        print(\"Precision  Recall  F1\")\n",
    "        prec0 = TN/(TN+FN)\n",
    "        rec0 = TN/(TN+FP)\n",
    "        f1_0 = 2*prec0*rec0/(prec0+rec0)\n",
    "        print(round(prec0,2),\"      \",round(rec0,2),\"  \",round(f1_0,2))\n",
    "        print('\\n')\n",
    "        print(\"Quasars:\")\n",
    "        print(\"Precision  Recall  F1\")\n",
    "        prec1 = TP/(TP+FP)\n",
    "        rec1 = TP/(TP+FN)\n",
    "        f1_1 = 2*prec1*rec1/(prec1+rec1)\n",
    "        print(round(prec1,2),\"      \",round(rec1,2),\"  \",round(f1_1,2))        \n",
    "        return a\n",
    "\n",
    "\n",
    "    b = getAccuracy(testSet, predictions)\n",
    "    return predictions,b\n",
    "\n"
   ]
  },
  {
   "cell_type": "code",
   "execution_count": 10,
   "metadata": {},
   "outputs": [],
   "source": [
    "#data splitting functions\n",
    "\n",
    "def dataSplit(dataset1,sRatio,trainSz):\n",
    "    \n",
    "    trainSet1 = []\n",
    "    temp_cpy = list(dataset1)\n",
    "    while len(trainSet1) < trainSz:\n",
    "        index = random.randrange(len(temp_cpy))\n",
    "        trainSet1.append(temp_cpy.pop(index))\n",
    "    return [trainSet1,temp_cpy]\n",
    "    \n",
    "def splitting(dataset):\n",
    "    sRatio = 0.80\n",
    "    trainSz = int(len(dataset) * sRatio)\n",
    "    train, test = dataSplit(dataset,sRatio,trainSz)\n",
    "    return(train,test)"
   ]
  },
  {
   "cell_type": "code",
   "execution_count": 11,
   "metadata": {},
   "outputs": [
    {
     "name": "stdout",
     "output_type": "stream",
     "text": [
      "Train set: 5162\n",
      "Test set: 730\n",
      "\n",
      "\n",
      "Overall Accuracy:  0.96\n",
      "\n",
      "\n",
      "Stars:\n",
      "Precision  Recall  F1\n",
      "0.86        0.73    0.79\n",
      "\n",
      "\n",
      "Quasars:\n",
      "Precision  Recall  F1\n",
      "0.97        0.98    0.98\n",
      "\n",
      "AUC is  0.91\n"
     ]
    },
    {
     "data": {
      "image/png": "[encoded data removed]",
      "text/plain": [
       "<Figure size 432x288 with 1 Axes>"
      ]
     },
     "metadata": {},
     "output_type": "display_data"
    }
   ],
   "source": [
    "predictions,a = main()\n",
    "'''k_list = [3,5,7]\n",
    "plt.plot(k_list,acc_list)\n",
    "plt.show()'''\n",
    "\n",
    "x = np.array(predictions)\n",
    "y = np.array(a)\n",
    "\n",
    "from sklearn.metrics import roc_curve, auc\n",
    "fpr, tpr, thresholds = roc_curve(x, y)\n",
    "roc_auc = auc(fpr, tpr)\n",
    "\n",
    "plt.figure()\n",
    "plt.plot(fpr, tpr, color='red')\n",
    "plt.plot([0, 1], [0, 1], color='blue',linestyle='--')\n",
    "plt.xlim([0.0, 1.0])\n",
    "plt.ylim([0.0, 1.05])\n",
    "plt.xlabel('False Positive Rate')\n",
    "plt.ylabel('True Positive Rate')\n",
    "plt.title('ROC Curve')\n",
    "print(\"\\nAUC is \",round(roc_auc,2))\n",
    "plt.show()"
   ]
  },
  {
   "cell_type": "code",
   "execution_count": null,
   "metadata": {},
   "outputs": [],
   "source": []
  },
  {
   "cell_type": "code",
   "execution_count": null,
   "metadata": {},
   "outputs": [],
   "source": []
  },
  {
   "cell_type": "code",
   "execution_count": null,
   "metadata": {},
   "outputs": [],
   "source": []
  }
 ],
 "metadata": {
  "kernelspec": {
   "display_name": "Python 3",
   "language": "python",
   "name": "python3"
  },
  "language_info": {
   "codemirror_mode": {
    "name": "ipython",
    "version": 3
   },
   "file_extension": ".py",
   "mimetype": "text/x-python",
   "name": "python",
   "nbconvert_exporter": "python",
   "pygments_lexer": "ipython3",
   "version": "3.6.5"
  }
 },
 "nbformat": 4,
 "nbformat_minor": 2
}
